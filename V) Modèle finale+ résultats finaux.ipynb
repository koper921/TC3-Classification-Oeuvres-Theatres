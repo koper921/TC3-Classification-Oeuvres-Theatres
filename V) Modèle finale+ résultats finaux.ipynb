{
 "cells": [
  {
   "cell_type": "markdown",
   "metadata": {},
   "source": [
    "# Modèles finaux, avec utilisation de SMOTE\n",
    "### on a bien veillé à utiliser SMOTE seulement dans le train , pour éviter de biaiser le jeu de validation\n",
    "### le meilleur résultat est 89% avec un réseaux de neurones 4 couches + dropout (64)"
   ]
  },
  {
   "cell_type": "code",
   "execution_count": null,
   "metadata": {
    "collapsed": true
   },
   "outputs": [],
   "source": [
    "# prediction sur les classes ou le label apparait au moins 10 fois pour l'application de SMOTE \n",
    "# l'oversampling permet au neural network permet d'apprendre d'autre classe \n",
    "# avant il n'apprenait 2 voir 3 classes au mieux , oversampling très benefique ici "
   ]
  },
  {
   "cell_type": "code",
   "execution_count": 1,
   "metadata": {
    "collapsed": true
   },
   "outputs": [],
   "source": [
    "from imblearn.over_sampling import SMOTE, ADASYN\n",
    "from sklearn.naive_bayes import MultinomialNB\n",
    "from sklearn.pipeline import Pipeline\n",
    "from sklearn.feature_extraction.text import TfidfTransformer\n",
    "\n",
    "from sklearn.feature_extraction.text import CountVectorizer\n",
    "from collections import Counter\n",
    "from xgboost import XGBClassifier\n",
    "import seaborn as sn\n",
    "import pandas as pd\n",
    "import matplotlib.pyplot as plt\n",
    "from sklearn.metrics import confusion_matrix\n",
    "from sklearn.metrics import recall_score\n",
    "import numpy as np\n",
    "from imblearn.over_sampling import RandomOverSampler\n"
   ]
  },
  {
   "cell_type": "markdown",
   "metadata": {},
   "source": [
    "### Import des données "
   ]
  },
  {
   "cell_type": "code",
   "execution_count": 106,
   "metadata": {
    "collapsed": true
   },
   "outputs": [],
   "source": [
    "import pandas as pd \n",
    "df = pd.read_csv('body_base_notcut_clean_lemmatiser_notrand.csv',sep='\\t',  encoding = \"latin\" )\n",
    "df\n",
    "\n",
    "df_c=df\n",
    "df_c.columns= ['label', 'text', 'genre']"
   ]
  },
  {
   "cell_type": "code",
   "execution_count": 107,
   "metadata": {},
   "outputs": [
    {
     "data": {
      "text/html": [
       "<div>\n",
       "<style scoped>\n",
       "    .dataframe tbody tr th:only-of-type {\n",
       "        vertical-align: middle;\n",
       "    }\n",
       "\n",
       "    .dataframe tbody tr th {\n",
       "        vertical-align: top;\n",
       "    }\n",
       "\n",
       "    .dataframe thead th {\n",
       "        text-align: right;\n",
       "    }\n",
       "</style>\n",
       "<table border=\"1\" class=\"dataframe\">\n",
       "  <thead>\n",
       "    <tr style=\"text-align: right;\">\n",
       "      <th></th>\n",
       "      <th>label</th>\n",
       "      <th>text</th>\n",
       "      <th>genre</th>\n",
       "    </tr>\n",
       "  </thead>\n",
       "  <tbody>\n",
       "    <tr>\n",
       "      <th>0</th>\n",
       "      <td>0</td>\n",
       "      <td>acte SCÈNE Argélie Clytie ARGÉLIE Gardes veni...</td>\n",
       "      <td>Tragédie</td>\n",
       "    </tr>\n",
       "    <tr>\n",
       "      <th>1</th>\n",
       "      <td>0</td>\n",
       "      <td>acte SCÈNE PREMIÈRE Coriolan Albin CORIOLAN Q...</td>\n",
       "      <td>Tragédie</td>\n",
       "    </tr>\n",
       "    <tr>\n",
       "      <th>2</th>\n",
       "      <td>0</td>\n",
       "      <td>acte SCÈNE Érigone Iphis IPHIS non Madame mor...</td>\n",
       "      <td>Tragédie</td>\n",
       "    </tr>\n",
       "    <tr>\n",
       "      <th>3</th>\n",
       "      <td>1</td>\n",
       "      <td>SCÈNE PREMIÈRE Argante Nérine ARGANTE enfin N...</td>\n",
       "      <td>Comédie</td>\n",
       "    </tr>\n",
       "    <tr>\n",
       "      <th>4</th>\n",
       "      <td>2</td>\n",
       "      <td>PAN ET DORIS SCÈNE premier PAN figurer Valémo...</td>\n",
       "      <td>Pastorale</td>\n",
       "    </tr>\n",
       "  </tbody>\n",
       "</table>\n",
       "</div>"
      ],
      "text/plain": [
       "   label                                               text      genre\n",
       "0      0   acte SCÈNE Argélie Clytie ARGÉLIE Gardes veni...   Tragédie\n",
       "1      0   acte SCÈNE PREMIÈRE Coriolan Albin CORIOLAN Q...   Tragédie\n",
       "2      0   acte SCÈNE Érigone Iphis IPHIS non Madame mor...   Tragédie\n",
       "3      1   SCÈNE PREMIÈRE Argante Nérine ARGANTE enfin N...    Comédie\n",
       "4      2   PAN ET DORIS SCÈNE premier PAN figurer Valémo...  Pastorale"
      ]
     },
     "execution_count": 107,
     "metadata": {},
     "output_type": "execute_result"
    }
   ],
   "source": [
    "df_c.head()"
   ]
  },
  {
   "cell_type": "code",
   "execution_count": 108,
   "metadata": {
    "scrolled": true
   },
   "outputs": [
    {
     "name": "stdout",
     "output_type": "stream",
     "text": [
      "<class 'pandas.core.frame.DataFrame'>\n",
      "RangeIndex: 1025 entries, 0 to 1024\n",
      "Data columns (total 3 columns):\n",
      "label    1025 non-null int64\n",
      "text     1025 non-null object\n",
      "genre    1025 non-null object\n",
      "dtypes: int64(1), object(2)\n",
      "memory usage: 24.1+ KB\n"
     ]
    }
   ],
   "source": [
    "df_c.info()"
   ]
  },
  {
   "cell_type": "markdown",
   "metadata": {},
   "source": [
    "### répartions des genres dans la base"
   ]
  },
  {
   "cell_type": "code",
   "execution_count": 124,
   "metadata": {},
   "outputs": [
    {
     "data": {
      "image/png": "[encoded data removed]",
      "text/plain": [
       "<matplotlib.figure.Figure at 0x1f98a7354e0>"
      ]
     },
     "metadata": {},
     "output_type": "display_data"
    }
   ],
   "source": [
    "import seaborn as sn\n",
    "sn.set(rc={'figure.figsize':(11.7,8.27)})\n",
    "sn.countplot(x='label', data=df_c )\n",
    "plt.title(\"Nombre d'oeuvre thêatrale par genre\")\n",
    "plt.grid()\n",
    "plt.show()"
   ]
  },
  {
   "cell_type": "markdown",
   "metadata": {},
   "source": [
    "### SMOTE nécessite au moins 5 échantillons de meme classe dans le train\n",
    "### on est obligé de garder les classes ayant plus de 10 occurences \n",
    "cela ramène la classification à une classification sur 10 classes "
   ]
  },
  {
   "cell_type": "code",
   "execution_count": 4,
   "metadata": {
    "collapsed": true
   },
   "outputs": [],
   "source": [
    "df_6_i =df_c.groupby(['label']).count()>10\n",
    "index = list(df_6_i.loc[df_6_i['text']==True].index)"
   ]
  },
  {
   "cell_type": "code",
   "execution_count": 82,
   "metadata": {
    "collapsed": true
   },
   "outputs": [],
   "source": [
    "from sklearn.model_selection import train_test_split\n",
    "df_6 = df_c.loc[df_c.label.isin(index) ]\n",
    "#df_6 =  df_6.sample(frac=1).reset_index(drop=True)\n",
    "df_c=df_6\n",
    "\n",
    "y = df_c.iloc[:,0]\n",
    "\n",
    "list_text = df_c.iloc[:,1]\n",
    "list_label = df_c.iloc[:,0]\n",
    "\n",
    "#test_size = int(len(list_text)/8)\n",
    "#test_set , train_set  = list_text[:test_size], list_text[test_size:]\n",
    "#test_label, train_label = list_label[:test_size], list_label[test_size:]\n",
    "\n",
    "train_set, test_set, train_label , test_label = train_test_split(list_text, list_label, stratify =list_label,\n",
    "                                                     random_state=3,\n",
    "                                                    test_size=0.1)\n",
    "\n",
    "y_test, y_train  = test_label, train_label"
   ]
  },
  {
   "cell_type": "code",
   "execution_count": 6,
   "metadata": {},
   "outputs": [
    {
     "data": {
      "text/html": [
       "<div>\n",
       "<style>\n",
       "    .dataframe thead tr:only-child th {\n",
       "        text-align: right;\n",
       "    }\n",
       "\n",
       "    .dataframe thead th {\n",
       "        text-align: left;\n",
       "    }\n",
       "\n",
       "    .dataframe tbody tr th {\n",
       "        vertical-align: top;\n",
       "    }\n",
       "</style>\n",
       "<table border=\"1\" class=\"dataframe\">\n",
       "  <thead>\n",
       "    <tr style=\"text-align: right;\">\n",
       "      <th></th>\n",
       "      <th>label</th>\n",
       "      <th>text</th>\n",
       "      <th>genre</th>\n",
       "    </tr>\n",
       "  </thead>\n",
       "  <tbody>\n",
       "    <tr>\n",
       "      <th>0</th>\n",
       "      <td>0</td>\n",
       "      <td>acte SCÈNE Argélie Clytie ARGÉLIE Gardes veni...</td>\n",
       "      <td>Tragédie</td>\n",
       "    </tr>\n",
       "    <tr>\n",
       "      <th>1</th>\n",
       "      <td>0</td>\n",
       "      <td>acte SCÈNE PREMIÈRE Coriolan Albin CORIOLAN Q...</td>\n",
       "      <td>Tragédie</td>\n",
       "    </tr>\n",
       "    <tr>\n",
       "      <th>2</th>\n",
       "      <td>0</td>\n",
       "      <td>acte SCÈNE Érigone Iphis IPHIS non Madame mor...</td>\n",
       "      <td>Tragédie</td>\n",
       "    </tr>\n",
       "    <tr>\n",
       "      <th>3</th>\n",
       "      <td>1</td>\n",
       "      <td>SCÈNE PREMIÈRE Argante Nérine ARGANTE enfin N...</td>\n",
       "      <td>Comédie</td>\n",
       "    </tr>\n",
       "    <tr>\n",
       "      <th>5</th>\n",
       "      <td>1</td>\n",
       "      <td>POLIXÈNE tragédie EN UN acte SCÈNE PREMIÈRE P...</td>\n",
       "      <td>Comédie</td>\n",
       "    </tr>\n",
       "  </tbody>\n",
       "</table>\n",
       "</div>"
      ],
      "text/plain": [
       "   label                                               text     genre\n",
       "0      0   acte SCÈNE Argélie Clytie ARGÉLIE Gardes veni...  Tragédie\n",
       "1      0   acte SCÈNE PREMIÈRE Coriolan Albin CORIOLAN Q...  Tragédie\n",
       "2      0   acte SCÈNE Érigone Iphis IPHIS non Madame mor...  Tragédie\n",
       "3      1   SCÈNE PREMIÈRE Argante Nérine ARGANTE enfin N...   Comédie\n",
       "5      1   POLIXÈNE tragédie EN UN acte SCÈNE PREMIÈRE P...   Comédie"
      ]
     },
     "execution_count": 6,
     "metadata": {},
     "output_type": "execute_result"
    }
   ],
   "source": [
    "\n",
    "\n",
    "df_6.head()"
   ]
  },
  {
   "cell_type": "markdown",
   "metadata": {},
   "source": [
    "### Récupérer les noms de labels"
   ]
  },
  {
   "cell_type": "code",
   "execution_count": 83,
   "metadata": {
    "collapsed": true
   },
   "outputs": [],
   "source": [
    "list1 = list(df_6.genre)\n",
    "list2 = list(set(list1))    \n",
    "list2.sort(key=list1.index)  "
   ]
  },
  {
   "cell_type": "code",
   "execution_count": 9,
   "metadata": {},
   "outputs": [
    {
     "data": {
      "text/plain": [
       "['Tragédie',\n",
       " 'Comédie',\n",
       " 'Parodie',\n",
       " 'Proverbe',\n",
       " 'Farce',\n",
       " 'Monologue',\n",
       " 'Tragi-comédie',\n",
       " 'Drame',\n",
       " 'Opéra',\n",
       " 'opuscule dramatique']"
      ]
     },
     "execution_count": 9,
     "metadata": {},
     "output_type": "execute_result"
    }
   ],
   "source": [
    "list2"
   ]
  },
  {
   "cell_type": "markdown",
   "metadata": {},
   "source": [
    "### Mot important "
   ]
  },
  {
   "cell_type": "code",
   "execution_count": 9,
   "metadata": {},
   "outputs": [
    {
     "name": "stdout",
     "output_type": "stream",
     "text": [
      "benjamine\n",
      "cléanthe\n",
      "néron\n",
      "alcandre\n",
      "dorante\n",
      "gesler\n",
      "gusman\n",
      "cinna\n",
      "cassandre\n",
      "alceste\n",
      "agrippine\n",
      "judith\n",
      "phalante\n",
      "dona\n",
      "célante\n",
      "blaise\n",
      "marmuse\n",
      "étéocle\n",
      "trufaldin\n",
      "agamemnon\n",
      "arlequin\n",
      "mananville\n",
      "chimène\n",
      "philidor\n",
      "abraham\n",
      "io\n",
      "catilina\n",
      "édouard\n",
      "coligny\n",
      "antoine\n",
      "tartuffe\n",
      "roger\n",
      "livie\n",
      "eucherius\n",
      "mercure\n",
      "sertorius\n",
      "orgon\n",
      "acante\n",
      "japhet\n",
      "esther\n",
      "sec\n",
      "comtesse\n",
      "bérénice\n",
      "argentin\n",
      "momus\n",
      "desgrais\n",
      "abbé\n",
      "léandre\n",
      "soliman\n",
      "haman\n",
      "campagnard\n",
      "cléante\n",
      "cendrillon\n",
      "clown\n",
      "sainville\n",
      "hollande\n",
      "décousu\n",
      "nicomède\n",
      "mari\n",
      "oronte\n",
      "capitan\n",
      "tancrède\n",
      "ernest\n",
      "jésus\n",
      "pélée\n",
      "polixène\n",
      "pyrrhus\n",
      "mathurin\n",
      "enfant\n",
      "ligdamon\n",
      "ésope\n",
      "thibaut\n",
      "inville\n",
      "bonaventure\n",
      "albert\n",
      "ergaste\n",
      "warwick\n",
      "jason\n",
      "dutremblet\n",
      "ribercour\n",
      "robespierre\n",
      "gilles\n",
      "vulcain\n",
      "conine\n",
      "lisandre\n",
      "seringuet\n",
      "cécile\n",
      "séjanus\n",
      "olimpe\n",
      "orphise\n",
      "dynamis\n",
      "bête\n",
      "eve\n",
      "triollet\n",
      "hippolyte\n",
      "darius\n",
      "trotberg\n",
      "acanthe\n",
      "vuide\n",
      "baron\n",
      "sifroy\n",
      "lélio\n",
      "orgon\n",
      "gilles\n",
      "zamire\n",
      "oedipe\n",
      "angélique\n",
      "prêtre\n",
      "gusmand\n",
      "arthénice\n",
      "granville\n",
      "harpin\n",
      "andronic\n",
      "achille\n",
      "sganarelle\n",
      "gustave\n",
      "agante\n",
      "pillier\n",
      "florville\n",
      "idoménée\n",
      "arlequin\n",
      "beaubourg\n",
      "gilles\n",
      "cléopâtre\n",
      "trasimond\n",
      "clitandre\n",
      "molière\n",
      "placide\n",
      "darinel\n",
      "azor\n",
      "épinai\n",
      "voyelle\n",
      "alcimadure\n",
      "félicie\n",
      "oedipe\n",
      "andré\n",
      "salomé\n",
      "flaminius\n",
      "tullie\n",
      "clitidas\n",
      "anitus\n",
      "cliton\n",
      "iphigénie\n",
      "tamerlan\n",
      "madelon\n",
      "choeur\n",
      "marius\n",
      "lisette\n",
      "oriane\n",
      "carrille\n",
      "hylas\n",
      "jodelet\n",
      "fernand\n",
      "prêcheur\n",
      "dorante\n",
      "bernard\n",
      "antigone\n",
      "fée\n",
      "darie\n",
      "léandre\n",
      "sancho\n",
      "pandore\n",
      "susanne\n",
      "hardouin\n",
      "fanchon\n",
      "hilus\n",
      "arsace\n",
      "patisite\n",
      "jenneval\n",
      "angélique\n",
      "magdelon\n",
      "iscarie\n",
      "bouchet\n",
      "irène\n",
      "tante\n",
      "ariste\n",
      "grimoald\n",
      "trivelin\n",
      "lucidor\n",
      "fernand\n",
      "molière\n",
      "blaize\n",
      "périon\n",
      "barbouillé\n",
      "albert\n",
      "simon\n",
      "iradan\n",
      "monrose\n",
      "rotrou\n",
      "monime\n",
      "joséphine\n",
      "amboisel\n",
      "ninette\n",
      "clindor\n",
      "tancrède\n",
      "lisette\n",
      "degrantier\n",
      "cadmus\n",
      "thibaut\n",
      "pluton\n",
      "panfile\n",
      "cuisinière\n",
      "daraide\n",
      "moron\n",
      "catherine\n",
      "lucinde\n",
      "valérie\n",
      "blinval\n",
      "cinthio\n",
      "démétrius\n",
      "peyrouse\n",
      "arlequin\n",
      "florival\n",
      "grognard\n",
      "sganarelle\n",
      "sapor\n",
      "marquis\n",
      "mayenne\n",
      "nicandre\n",
      "artus\n",
      "ismène\n",
      "arlequin\n",
      "eurimédon\n",
      "eudoxie\n",
      "impératif\n",
      "érope\n",
      "timur\n",
      "mathurine\n",
      "saül\n",
      "théodat\n",
      "pyrame\n",
      "baron\n",
      "lucrèce\n",
      "guillaume\n",
      "créon\n",
      "lisette\n",
      "soliman\n",
      "georgette\n",
      "laforest\n",
      "vendôme\n",
      "clorimant\n",
      "hector\n",
      "alfons\n",
      "duru\n",
      "helvie\n",
      "psyché\n",
      "énée\n",
      "semainier\n",
      "thibaut\n",
      "clitophon\n",
      "pasquin\n",
      "torquatus\n",
      "angélique\n",
      "piétremise\n",
      "pyrrhus\n",
      "bertrand\n",
      "circé\n",
      "alménorade\n",
      "alcipe\n",
      "raoul\n",
      "ival\n",
      "lélio\n",
      "lisette\n",
      "clarimonde\n",
      "lubin\n",
      "alcibiade\n",
      "abbé\n",
      "médée\n",
      "guillot\n",
      "juan\n",
      "amasis\n",
      "stratonice\n",
      "baron\n",
      "blandimare\n",
      "artabaze\n",
      "jobelin\n",
      "jérôme\n",
      "dorimène\n",
      "astolfe\n",
      "cinna\n",
      "hortense\n",
      "momus\n",
      "mylord\n",
      "amphitryon\n",
      "lord\n",
      "frosine\n",
      "naz\n",
      "ophis\n",
      "abbé\n",
      "léonidas\n",
      "philipin\n",
      "vicomte\n",
      "lidamant\n",
      "lépine\n",
      "hérode\n",
      "coelio\n",
      "blandineau\n",
      "dercour\n",
      "géronte\n",
      "don\n",
      "colombine\n",
      "lélio\n",
      "polixène\n",
      "suzon\n",
      "arlequin\n",
      "cassaigne\n",
      "pauline\n",
      "épiménide\n",
      "dorval\n",
      "colombine\n",
      "nérine\n",
      "urval\n",
      "zerbinette\n",
      "thésée\n",
      "pèdre\n",
      "silvia\n",
      "arlequin\n",
      "frontin\n",
      "ariarathe\n",
      "apollon\n",
      "arcagambis\n",
      "baptiste\n",
      "damon\n",
      "fédéric\n",
      "toinette\n",
      "polichinelle\n",
      "monologue\n",
      "lépine\n",
      "céphise\n",
      "montire\n",
      "sinorix\n",
      "crispin\n",
      "philoxène\n",
      "euphémon\n",
      "virginie\n",
      "jenin\n",
      "béjart\n",
      "flaminia\n",
      "richevière\n",
      "clidamant\n",
      "michau\n",
      "fanchon\n",
      "guimauvin\n",
      "hygin\n",
      "hurlubrelu\n",
      "bajazet\n",
      "jason\n",
      "dubuisson\n",
      "phalante\n",
      "virgilie\n",
      "godeau\n",
      "rosimond\n",
      "catau\n",
      "asdrubal\n",
      "dorimont\n",
      "nanine\n",
      "joad\n",
      "électre\n",
      "agrippa\n",
      "pauv\n",
      "hérode\n",
      "anaxandre\n",
      "cassandre\n",
      "granger\n",
      "parthénie\n",
      "alphrède\n",
      "pamphage\n",
      "franville\n",
      "polidor\n",
      "montespan\n",
      "barbara\n",
      "merlin\n",
      "éraste\n",
      "fée\n",
      "florame\n",
      "ariane\n",
      "josaphat\n",
      "horace\n",
      "bassinet\n",
      "plisthène\n",
      "thélamire\n",
      "inès\n",
      "dionys\n",
      "grégoire\n",
      "titus\n",
      "phèdre\n",
      "molière\n",
      "alceste\n",
      "josselin\n",
      "dorval\n",
      "margot\n",
      "capellet\n",
      "mauvillain\n",
      "créon\n",
      "pyrrhus\n",
      "fenise\n",
      "araminte\n",
      "madeleine\n",
      "élise\n",
      "va\n",
      "bartholo\n",
      "jocrisse\n",
      "alzaïde\n",
      "hypermnestre\n",
      "médée\n",
      "philiste\n",
      "derval\n",
      "trufaldin\n",
      "antiochus\n",
      "hippolyte\n",
      "servilius\n",
      "lope\n",
      "sganarelle\n",
      "angélique\n",
      "dents\n",
      "damis\n",
      "amatrox\n",
      "pinel\n",
      "abbé\n",
      "pinuin\n",
      "pharnace\n",
      "zamire\n",
      "coucy\n",
      "boniface\n",
      "vasta\n",
      "vorcestre\n",
      "blondel\n",
      "polydas\n",
      "clarionte\n",
      "palestrion\n",
      "oronte\n",
      "mascarille\n",
      "sténobée\n",
      "franchard\n",
      "belton\n",
      "federic\n",
      "sotinet\n",
      "damis\n",
      "dubattoir\n",
      "juan\n",
      "célanire\n",
      "herménégilde\n",
      "cécile\n",
      "pyrrhus\n",
      "adrien\n",
      "chimène\n",
      "lothaire\n",
      "arlequin\n",
      "concierge\n",
      "oedipe\n",
      "pigmalion\n",
      "chevalier\n",
      "tullie\n",
      "colombine\n",
      "babot\n",
      "faune\n",
      "gilles\n",
      "aurélie\n",
      "lisban\n",
      "bélisaire\n",
      "scipion\n",
      "électre\n",
      "bradamante\n",
      "dubut\n",
      "eurydice\n",
      "victor\n",
      "cydalise\n",
      "tentation\n",
      "clopin\n",
      "genest\n",
      "argant\n",
      "cléarque\n",
      "barogo\n",
      "absalon\n",
      "électre\n",
      "lisette\n",
      "lubin\n",
      "sosie\n",
      "etherée\n",
      "bdélikléôn\n",
      "valère\n",
      "harpagon\n",
      "milord\n",
      "cidalise\n",
      "cléomène\n",
      "célinde\n",
      "diègue\n",
      "scapin\n",
      "temire\n",
      "nostradamus\n",
      "clarigène\n",
      "simon\n",
      "almanzor\n",
      "pandoste\n",
      "dandin\n",
      "comtesse\n",
      "grugeon\n",
      "molière\n",
      "endymion\n",
      "ajax\n",
      "philacte\n",
      "saül\n",
      "thomasseau\n",
      "josse\n",
      "crispin\n",
      "hilaire\n",
      "arbace\n",
      "euménides\n",
      "chrisis\n",
      "bourval\n",
      "baron\n",
      "araminte\n",
      "porsenne\n",
      "marton\n",
      "néron\n",
      "fripesauces\n",
      "merlin\n",
      "blaise\n",
      "rodogune\n",
      "juan\n",
      "gilles\n",
      "jacquemard\n",
      "hilaire\n",
      "andromède\n",
      "chicanneau\n",
      "samson\n",
      "roger\n",
      "babet\n",
      "sorbin\n",
      "médée\n",
      "électre\n",
      "dainval\n",
      "catos\n",
      "valère\n",
      "élisabeth\n",
      "sganarelle\n",
      "armide\n",
      "spadarille\n",
      "chapelain\n",
      "patin\n",
      "roger\n",
      "camille\n",
      "arsame\n",
      "sganarelle\n",
      "arlequin\n",
      "oronte\n",
      "alidor\n",
      "césar\n",
      "trapolin\n",
      "critique\n",
      "nouveauté\n",
      "mignonnet\n",
      "rothenberg\n",
      "colombine\n",
      "jérôme\n",
      "sbrigany\n",
      "trapolin\n",
      "gilles\n",
      "belise\n",
      "gant\n",
      "dipné\n",
      "don\n",
      "rodolfe\n",
      "teucer\n",
      "dubens\n",
      "iole\n",
      "émilie\n",
      "blanchet\n",
      "fernand\n",
      "sancho\n",
      "janot\n",
      "zamore\n",
      "porus\n",
      "perdican\n",
      "molière\n",
      "amidor\n",
      "bagolin\n",
      "merlin\n",
      "lourdis\n",
      "jovial\n",
      "doralie\n",
      "ergaste\n",
      "montbrizac\n",
      "orante\n",
      "clotilde\n",
      "stalinon\n",
      "épées\n",
      "phinée\n",
      "osarphis\n",
      "lorenzo\n",
      "philante\n",
      "pénélope\n",
      "valentin\n",
      "plautine\n",
      "genest\n",
      "cursac\n",
      "cléodate\n",
      "théodore\n",
      "zéronès\n",
      "bramine\n",
      "strabon\n",
      "modérantin\n",
      "haegée\n",
      "andres\n",
      "eugène\n",
      "molière\n",
      "alonce\n",
      "morille\n",
      "bouvillon\n",
      "médor\n",
      "philaminte\n",
      "merlin\n",
      "argante\n",
      "rodomont\n",
      "momus\n",
      "bélise\n",
      "émirène\n",
      "archestrate\n",
      "pasquin\n",
      "valentine\n",
      "phyloclée\n",
      "régulus\n",
      "teopiste\n",
      "osman\n",
      "blar\n",
      "poucet\n",
      "valentin\n",
      "philinte\n",
      "je\n",
      "arlequin\n",
      "chicanneau\n",
      "frontin\n",
      "alphée\n",
      "hernani\n",
      "roxane\n",
      "iolas\n",
      "gourville\n",
      "janot\n",
      "valcour\n",
      "dorval\n",
      "pasquin\n",
      "gilles\n",
      "charlotte\n",
      "hypermestre\n",
      "laurette\n",
      "clidamant\n",
      "pot\n",
      "dircé\n",
      "valère\n",
      "crispin\n",
      "médée\n",
      "chloris\n",
      "clabaud\n",
      "belval\n",
      "isménie\n",
      "régulus\n",
      "juliette\n",
      "théandre\n",
      "massinisse\n",
      "galatée\n",
      "ninon\n",
      "obéide\n",
      "sosie\n",
      "aristandre\n",
      "damis\n",
      "fabie\n",
      "don\n",
      "créon\n",
      "duc\n",
      "bouloir\n",
      "porcie\n",
      "porus\n",
      "arlequin\n",
      "polydas\n",
      "fabrice\n",
      "dorimant\n",
      "héraclès\n",
      "bièvre\n",
      "miltiade\n",
      "orgon\n",
      "nicandre\n",
      "galligay\n",
      "agamemnon\n",
      "arlequin\n",
      "clitandre\n",
      "bouloir\n",
      "zoïlin\n",
      "marton\n",
      "circeine\n",
      "pedre\n",
      "voltaire\n",
      "clorise\n",
      "marton\n",
      "briseis\n",
      "valentin\n",
      "félix\n",
      "prusias\n",
      "bailly\n",
      "sylvie\n",
      "ransomet\n",
      "pus\n",
      "pardessus\n",
      "arnolphe\n",
      "daphné\n",
      "hardouin\n",
      "fédéric\n",
      "melistrate\n",
      "aridée\n",
      "hélène\n",
      "polinice\n",
      "déidamie\n",
      "trigaudin\n",
      "dorame\n",
      "finot\n",
      "trapolin\n",
      "richelieu\n",
      "mirval\n",
      "charlot\n",
      "leuxis\n",
      "gilles\n",
      "triolet\n",
      "bertran\n",
      "catos\n",
      "pontanus\n",
      "delalande\n",
      "eglé\n",
      "grifon\n",
      "toinette\n",
      "louis\n",
      "cléante\n",
      "descartes\n",
      "marton\n",
      "antiochus\n",
      "philinte\n",
      "fauste\n",
      "culotte\n",
      "catilina\n",
      "plaisir\n",
      "mérope\n",
      "pharasmane\n",
      "marton\n",
      "agon\n",
      "hippolite\n",
      "sarcide\n",
      "démocrite\n",
      "clytemnestre\n",
      "idamé\n",
      "massinisse\n",
      "corine\n",
      "plutus\n",
      "andronic\n",
      "guiscard\n",
      "héraclius\n",
      "argire\n",
      "bracassak\n",
      "césar\n",
      "clarimand\n",
      "syroës\n",
      "darius\n",
      "janneton\n",
      "sélim\n",
      "corneille\n",
      "darius\n",
      "sosie\n",
      "climante\n",
      "derville\n",
      "ségeste\n",
      "paquette\n",
      "sotencour\n",
      "clistorel\n",
      "elomire\n",
      "néoptolème\n",
      "didon\n",
      "phocion\n",
      "khoèphores\n",
      "fabie\n",
      "matamore\n",
      "dorval\n",
      "titus\n",
      "sosie\n",
      "mariamne\n",
      "bruyère\n",
      "alcidamas\n",
      "merlin\n",
      "président\n",
      "titus\n",
      "olimpe\n",
      "pymante\n",
      "spartacus\n",
      "rosette\n",
      "brutus\n",
      "dumeny\n",
      "paolo\n",
      "roxane\n",
      "phèdre\n",
      "médée\n",
      "francaleu\n",
      "gant\n",
      "suzette\n",
      "parmenon\n",
      "frac\n",
      "argante\n",
      "hortance\n",
      "bernard\n",
      "elisabeth\n",
      "oronte\n",
      "lucas\n",
      "croche\n",
      "ragueneau\n",
      "zéangir\n",
      "harpagême\n",
      "marquise\n",
      "alain\n",
      "sindéric\n",
      "delval\n",
      "pardonneur\n",
      "eraste\n",
      "arlequin\n",
      "attila\n",
      "prévannes\n",
      "janbroche\n",
      "léonore\n",
      "argan\n",
      "almaviva\n",
      "fabrice\n",
      "sémélé\n",
      "comus\n",
      "dorante\n",
      "sanche\n",
      "jourdain\n",
      "lolive\n",
      "virgine\n",
      "scapin\n",
      "atys\n",
      "arlequin\n",
      "athalante\n",
      "séide\n",
      "laurence\n",
      "arlequin\n",
      "frosine\n",
      "ursace\n",
      "roxane\n",
      "zaïre\n",
      "marton\n",
      "argide\n",
      "moncade\n",
      "placide\n",
      "rousseau\n",
      "linval\n",
      "philinte\n",
      "amarante\n",
      "alamir\n",
      "fontevrault\n",
      "achille\n",
      "bernard\n",
      "penthésilée\n",
      "montval\n",
      "silvia\n",
      "jeanne\n",
      "polidor\n",
      "marius\n",
      "poliarque\n",
      "placement\n",
      "mercure\n",
      "philaminte\n",
      "impias\n",
      "faublas\n",
      "hérode\n",
      "phrosine\n",
      "léocadie\n",
      "arlequin\n",
      "uranie\n",
      "verseuil\n",
      "straton\n",
      "florimant\n",
      "hercinie\n",
      "alcionée\n",
      "olympie\n",
      "fadrique\n",
      "carlin\n",
      "dortigni\n",
      "fauvye\n",
      "achille\n",
      "philiste\n",
      "david\n",
      "mousset\n",
      "formont\n",
      "mercure\n",
      "gorgibus\n",
      "philoclée\n",
      "bélisaire\n",
      "daphné\n",
      "sophonisbe\n",
      "lisette\n",
      "maurice\n",
      "juba\n",
      "tiridate\n",
      "pasquin\n",
      "poliarque\n",
      "charlatan\n",
      "maximian\n",
      "antigone\n",
      "spitridate\n",
      "la\n",
      "euclion\n",
      "patelin\n",
      "sémiramis\n"
     ]
    }
   ],
   "source": [
    " #TF-IDF\n",
    "from sklearn.feature_extraction.text import TfidfTransformer\n",
    "count_vect = CountVectorizer()\n",
    "X = count_vect.fit_transform(list_text)\n",
    "tfidf_transformer = TfidfTransformer()\n",
    "X_train_tfidf = tfidf_transformer.fit_transform(X)\n",
    "X_train_tfidf.shape\n",
    "\n",
    "# Mot le plus important au sens tfidf pour tous les text \n",
    "for e in list(np.argmax(X_train_tfidf, axis=1)):\n",
    "    i = e.tolist()\n",
    "    i = i[0][0] \n",
    "    \n",
    "    print(count_vect.get_feature_names()[i])\n"
   ]
  },
  {
   "cell_type": "code",
   "execution_count": 81,
   "metadata": {},
   "outputs": [
    {
     "name": "stdout",
     "output_type": "stream",
     "text": [
      "dorimène\n",
      "lisette\n",
      "intendante\n",
      "dorante\n",
      "merlin\n",
      "clitandre\n",
      "comtesse\n",
      "angélique\n",
      "lansquenet\n",
      "madame\n",
      "chevalier\n",
      "caissier\n",
      "éraste\n",
      "bien\n",
      "le\n",
      "je\n",
      "topase\n",
      "bellemonte\n",
      "jouer\n",
      "monsieur\n",
      "la\n",
      "point\n",
      "eh\n",
      "carte\n",
      "marquis\n",
      "argent\n",
      "il\n",
      "plus\n",
      "jeu\n",
      "dire\n"
     ]
    }
   ],
   "source": [
    "text1 = X_train_tfidf[2]\n",
    "# Récuperer les index des  30 mots les plus important pour un text selon tfidf\n",
    "index_features  = text1.toarray()[0].argsort()[-30:][::-1]\n",
    "#print(index_features)\n",
    "for i in index_features :\n",
    "    #print(i)\n",
    "    print(count_vect.get_feature_names()[i])"
   ]
  },
  {
   "cell_type": "markdown",
   "metadata": {},
   "source": [
    "### Réindexer les labels "
   ]
  },
  {
   "cell_type": "code",
   "execution_count": 10,
   "metadata": {
    "collapsed": true
   },
   "outputs": [],
   "source": [
    "# réindexer les labels \n",
    "def reindex_label(y):\n",
    "    label_list = list(set(y))\n",
    "    y_ranked  =[]\n",
    "    for label in y :\n",
    "        for i in range(len(label_list)) :\n",
    "             if label_list[i] == label : \n",
    "                    y_ranked.append(i)\n",
    "    return y_ranked\n",
    "                    \n",
    "y_ranked =reindex_label(y)           \n",
    "#y_test_r, y_train_r = y_ranked[:test_size], y_ranked[test_size: ]\n",
    "__, __, y_train_r , y_test_r = train_test_split(list_text, y_ranked, stratify=list_label,\n",
    "                                                     random_state=3,\n",
    "                                                    test_size=0.1)"
   ]
  },
  {
   "cell_type": "markdown",
   "metadata": {},
   "source": [
    "# Vectoriser + Smote\n",
    "### on fait bien attention à n'appliquer SMOTE que sur le train_set, sinon cela biaiserai nos jeux de test et résultats "
   ]
  },
  {
   "cell_type": "code",
   "execution_count": 84,
   "metadata": {
    "collapsed": true
   },
   "outputs": [],
   "source": [
    "count_vect = CountVectorizer()\n",
    "\n",
    "list_text = list(train_set)+list(test_set )\n",
    "X = count_vect.fit_transform(list_text)\n",
    "X_train, X_test = X[:len(train_set), :], X[len(train_set):, :]\n",
    "X_resampled, y_resampled = SMOTE().fit_resample(X_train, y_train)"
   ]
  },
  {
   "cell_type": "markdown",
   "metadata": {},
   "source": [
    "### Xgboost  Smote"
   ]
  },
  {
   "cell_type": "code",
   "execution_count": 85,
   "metadata": {},
   "outputs": [
    {
     "data": {
      "text/plain": [
       "0.8241758241758241"
      ]
     },
     "execution_count": 85,
     "metadata": {},
     "output_type": "execute_result"
    }
   ],
   "source": [
    "\n",
    "e = Pipeline([ ('tfidf', TfidfTransformer()), ('clf', XGBClassifier(max_depth=3, n_estimators=300, learning_rate=0.1))])\n",
    "\n",
    "text_clf = e.fit(X_resampled, y_resampled)\n",
    "xgboost_pred_smote = e.predict_proba(X_test)\n",
    "np.mean(e.predict(X_test)==y_test)"
   ]
  },
  {
   "cell_type": "code",
   "execution_count": null,
   "metadata": {
    "collapsed": true
   },
   "outputs": [],
   "source": []
  },
  {
   "cell_type": "code",
   "execution_count": 11,
   "metadata": {},
   "outputs": [
    {
     "data": {
      "image/png": "[encoded data removed]",
      "text/plain": [
       "<matplotlib.figure.Figure at 0x22f6e66c908>"
      ]
     },
     "metadata": {},
     "output_type": "display_data"
    }
   ],
   "source": [
    "y_pred1 = np.argmax(xgboost_pred_smote, axis = 1)\n",
    "y_test1 = y_test_r\n",
    "array = confusion_matrix(y_test1, y_pred1)\n",
    "array = array.astype('float') / array.sum(axis=1)[:, np.newaxis]\n",
    "\n",
    "\n",
    "df_cm = pd.DataFrame(array, index = list2 , columns = list2)\n",
    "plt.figure(figsize = (10,10))\n",
    "sn.heatmap(df_cm, annot=True)\n",
    "plt.show()"
   ]
  },
  {
   "cell_type": "markdown",
   "metadata": {},
   "source": [
    "### Xgboost Sans SMOTE"
   ]
  },
  {
   "cell_type": "code",
   "execution_count": 14,
   "metadata": {},
   "outputs": [
    {
     "data": {
      "text/plain": [
       "0.8287292817679558"
      ]
     },
     "execution_count": 14,
     "metadata": {},
     "output_type": "execute_result"
    }
   ],
   "source": [
    "\n",
    "e = Pipeline([ ('tfidf', TfidfTransformer()), ('clf', XGBClassifier(max_depth=3, n_estimators=300, learning_rate=0.1))])\n",
    "\n",
    "text_clf = e.fit(X_train, y_train)\n",
    "xgboost_pred = e.predict_proba(X_test)\n",
    "np.mean(e.predict(X_test)==y_test)"
   ]
  },
  {
   "cell_type": "code",
   "execution_count": 81,
   "metadata": {},
   "outputs": [
    {
     "data": {
      "image/png": "[encoded data removed]",
      "text/plain": [
       "<matplotlib.figure.Figure at 0x2ab0688fc18>"
      ]
     },
     "metadata": {},
     "output_type": "display_data"
    }
   ],
   "source": [
    "y_pred1 = np.argmax(xgboost_pred, axis = 1)\n",
    "y_test1 = y_test_r\n",
    "array = confusion_matrix(y_test1, y_pred1)\n",
    "array = array.astype('float') / array.sum(axis=1)[:, np.newaxis]\n",
    "\n",
    "\n",
    "df_cm = pd.DataFrame(array, index = list(range(0,10)) , columns = list(range(0,10)))\n",
    "plt.figure(figsize = (10,10))\n",
    "sn.heatmap(df_cm, annot=True)\n",
    "plt.show()"
   ]
  },
  {
   "cell_type": "code",
   "execution_count": null,
   "metadata": {
    "collapsed": true
   },
   "outputs": [],
   "source": []
  },
  {
   "cell_type": "markdown",
   "metadata": {},
   "source": [
    "# Neural Network\n",
    "### celui qui nous donne le meilleur résultat \n",
    "### SMOTE a été très bénéfique sur le réseaux de neuronnes 4 couches (64) + dropout\n",
    "### car les réseaux de neuronnes sont trés sensible aux asymétries de classe sur la base de données \n",
    "### 89% de précision , plus prédit même les genres sous représentés "
   ]
  },
  {
   "cell_type": "code",
   "execution_count": 9,
   "metadata": {},
   "outputs": [
    {
     "name": "stderr",
     "output_type": "stream",
     "text": [
      "Using TensorFlow backend.\n"
     ]
    },
    {
     "name": "stdout",
     "output_type": "stream",
     "text": [
      "(907, 66471)\n"
     ]
    }
   ],
   "source": [
    "import keras\n",
    "\n",
    "data = X\n",
    "print(data.shape)\n",
    "\n",
    "test_size = int(data.shape[0] /5)\n",
    "test_data , train_data  = data[:test_size, :], data[test_size:, :]\n",
    "y_ranked  =reindex_label(y)           \n",
    "y_test_r, y_train_r = y_ranked[:test_size], y_ranked[test_size: ]\n",
    "test_labels, train_labels = y_test_r, y_train_r\n",
    "\n"
   ]
  },
  {
   "cell_type": "code",
   "execution_count": 11,
   "metadata": {},
   "outputs": [
    {
     "name": "stdout",
     "output_type": "stream",
     "text": [
      "(907, 66471)\n"
     ]
    }
   ],
   "source": [
    "import keras\n",
    "\n",
    "data = X\n",
    "print(data.shape)\n",
    "\n",
    "test_size = int(data.shape[0] /5)\n",
    "test_data , train_data  = test_set, train_set\n",
    "y_ranked  =reindex_label(y)           \n",
    "#y_test_r, y_train_r = y_ranked[:test_size], y_ranked[test_size: ]\n",
    "test_labels, train_labels = y_test_r, y_train_r\n"
   ]
  },
  {
   "cell_type": "code",
   "execution_count": null,
   "metadata": {
    "collapsed": true
   },
   "outputs": [],
   "source": []
  },
  {
   "cell_type": "code",
   "execution_count": 13,
   "metadata": {
    "collapsed": true
   },
   "outputs": [],
   "source": [
    "X_train =train_data\n",
    "X_test =test_data\n",
    "y_train , y_test =  train_labels , test_labels"
   ]
  },
  {
   "cell_type": "code",
   "execution_count": 24,
   "metadata": {},
   "outputs": [
    {
     "name": "stdout",
     "output_type": "stream",
     "text": [
      "(3990, 66471) (3990,)\n"
     ]
    }
   ],
   "source": [
    "# Oversampling\n",
    "from imblearn.over_sampling import SMOTE, ADASYN\n",
    "X_resampled, y_resampled = SMOTE().fit_resample(X_train, y_train)\n",
    "print(X_resampled.shape, y_resampled.shape)"
   ]
  },
  {
   "cell_type": "code",
   "execution_count": null,
   "metadata": {
    "collapsed": true
   },
   "outputs": [],
   "source": []
  },
  {
   "cell_type": "code",
   "execution_count": 25,
   "metadata": {
    "collapsed": true
   },
   "outputs": [],
   "source": [
    "x_train, y_train = X_resampled, y_resampled"
   ]
  },
  {
   "cell_type": "code",
   "execution_count": 27,
   "metadata": {
    "collapsed": true
   },
   "outputs": [],
   "source": [
    "import keras\n",
    "\n",
    "import numpy as np\n",
    "from keras.utils import to_categorical\n",
    "\n",
    "def vectorize_sequences(sequences, dimension=108671):\n",
    "    results = np.zeros((len(sequences), dimension))\n",
    "    for i, sequence in enumerate(sequences):\n",
    "        results[i, sequence] = 1.\n",
    "    return results\n",
    "\n",
    "\n",
    "\n",
    "#One hot encoder \n",
    "y_resampled = to_categorical(y_resampled)\n",
    "y_test = to_categorical(y_test)\n",
    "y_train = to_categorical(y_train)\n",
    "\n",
    "#y_test, y_train  = y[:test_size, :], y[test_size:,:]\n"
   ]
  },
  {
   "cell_type": "code",
   "execution_count": 56,
   "metadata": {
    "collapsed": true
   },
   "outputs": [],
   "source": [
    "# moins bon avec le dropout model.add(Dropout(0.5))\n",
    "\n",
    "from keras import models\n",
    "from keras import layers\n",
    "from keras.layers import Dense, Dropout, Activation\n",
    "\n",
    "model = models.Sequential()\n",
    "model.add(layers.Dense(64, activation='relu', input_shape=(66471,)))\n",
    "model.add(Dropout(0.5))\n",
    "model.add(layers.Dense(64, activation='relu'))\n",
    "model.add(Dropout(0.5))\n",
    "model.add(layers.Dense(64, activation='relu'))\n",
    "#model.add(Dropout(0.5))\n",
    "model.add(layers.Dense(len(set(y)), activation='softmax'))"
   ]
  },
  {
   "cell_type": "code",
   "execution_count": 57,
   "metadata": {},
   "outputs": [
    {
     "data": {
      "text/plain": [
       "(3990, 10)"
      ]
     },
     "execution_count": 57,
     "metadata": {},
     "output_type": "execute_result"
    }
   ],
   "source": [
    "model.compile(optimizer='rmsprop', loss='categorical_crossentropy', metrics=['accuracy'])\n",
    "\n",
    "y_train.shape"
   ]
  },
  {
   "cell_type": "code",
   "execution_count": 58,
   "metadata": {
    "collapsed": true
   },
   "outputs": [],
   "source": [
    "x_val = x_train[:400,:]\n",
    "partial_x_train = x_train[400:,:]\n",
    "y_val = y_train[:400, :]\n",
    "partial_y_train = y_train[400:,:]"
   ]
  },
  {
   "cell_type": "code",
   "execution_count": 59,
   "metadata": {},
   "outputs": [
    {
     "name": "stdout",
     "output_type": "stream",
     "text": [
      "Train on 3590 samples, validate on 400 samples\n",
      "Epoch 1/30\n",
      "3590/3590 [==============================] - 4s 1ms/step - loss: 2.4041 - acc: 0.2178 - val_loss: 1.8073 - val_acc: 0.2775\n",
      "Epoch 2/30\n",
      "3590/3590 [==============================] - 4s 980us/step - loss: 1.8065 - acc: 0.3786 - val_loss: 2.1029 - val_acc: 0.1950\n",
      "Epoch 3/30\n",
      "3590/3590 [==============================] - 4s 1ms/step - loss: 1.5579 - acc: 0.4811 - val_loss: 1.3502 - val_acc: 0.6775\n",
      "Epoch 4/30\n",
      "3590/3590 [==============================] - 4s 1ms/step - loss: 1.2892 - acc: 0.5897 - val_loss: 1.0647 - val_acc: 0.7775\n",
      "Epoch 5/30\n",
      "3590/3590 [==============================] - 3s 955us/step - loss: 1.1140 - acc: 0.6462 - val_loss: 0.7823 - val_acc: 0.8375\n",
      "Epoch 6/30\n",
      "3590/3590 [==============================] - 4s 1ms/step - loss: 0.9959 - acc: 0.6852 - val_loss: 0.5683 - val_acc: 0.8800\n",
      "Epoch 7/30\n",
      "3590/3590 [==============================] - 3s 949us/step - loss: 0.9057 - acc: 0.7248 - val_loss: 0.4903 - val_acc: 0.9150\n",
      "Epoch 8/30\n",
      "3590/3590 [==============================] - 3s 951us/step - loss: 0.7293 - acc: 0.7777 - val_loss: 0.5393 - val_acc: 0.8700\n",
      "Epoch 9/30\n",
      "3590/3590 [==============================] - 4s 1ms/step - loss: 0.6075 - acc: 0.8209 - val_loss: 0.5595 - val_acc: 0.8550\n",
      "Epoch 10/30\n",
      "3590/3590 [==============================] - 4s 1ms/step - loss: 0.5480 - acc: 0.8287 - val_loss: 0.5893 - val_acc: 0.8550\n",
      "Epoch 11/30\n",
      "3590/3590 [==============================] - 4s 980us/step - loss: 0.4982 - acc: 0.8501 - val_loss: 0.2258 - val_acc: 0.9575\n",
      "Epoch 12/30\n",
      "3590/3590 [==============================] - 3s 964us/step - loss: 0.4398 - acc: 0.8557 - val_loss: 0.2131 - val_acc: 0.9600\n",
      "Epoch 13/30\n",
      "3590/3590 [==============================] - 3s 948us/step - loss: 0.3891 - acc: 0.8708 - val_loss: 0.2028 - val_acc: 0.9550\n",
      "Epoch 14/30\n",
      "3590/3590 [==============================] - 4s 1ms/step - loss: 0.3437 - acc: 0.8858 - val_loss: 0.3415 - val_acc: 0.9175\n",
      "Epoch 15/30\n",
      "3590/3590 [==============================] - 3s 943us/step - loss: 0.3545 - acc: 0.8847 - val_loss: 0.2142 - val_acc: 0.9400\n",
      "Epoch 16/30\n",
      "3590/3590 [==============================] - 3s 939us/step - loss: 0.3010 - acc: 0.9011 - val_loss: 0.1681 - val_acc: 0.9725\n",
      "Epoch 17/30\n",
      "3590/3590 [==============================] - 3s 943us/step - loss: 0.2598 - acc: 0.9162 - val_loss: 0.2129 - val_acc: 0.9550\n",
      "Epoch 18/30\n",
      "3590/3590 [==============================] - 3s 945us/step - loss: 0.2769 - acc: 0.9128 - val_loss: 0.3747 - val_acc: 0.9350\n",
      "Epoch 19/30\n",
      "3590/3590 [==============================] - 3s 945us/step - loss: 0.2827 - acc: 0.9150 - val_loss: 0.2027 - val_acc: 0.9625\n",
      "Epoch 20/30\n",
      "3590/3590 [==============================] - 3s 942us/step - loss: 0.2568 - acc: 0.9139 - val_loss: 0.2064 - val_acc: 0.9550\n",
      "Epoch 21/30\n",
      "3590/3590 [==============================] - 3s 944us/step - loss: 0.2300 - acc: 0.9256 - val_loss: 0.2449 - val_acc: 0.9500\n",
      "Epoch 22/30\n",
      "3590/3590 [==============================] - 3s 943us/step - loss: 0.2258 - acc: 0.9248 - val_loss: 0.2495 - val_acc: 0.9525\n",
      "Epoch 23/30\n",
      "3590/3590 [==============================] - 4s 1ms/step - loss: 0.2045 - acc: 0.9351 - val_loss: 0.2122 - val_acc: 0.9600\n",
      "Epoch 24/30\n",
      "3590/3590 [==============================] - 3s 961us/step - loss: 0.2180 - acc: 0.9292 - val_loss: 0.3579 - val_acc: 0.9300\n",
      "Epoch 25/30\n",
      "3590/3590 [==============================] - 3s 962us/step - loss: 0.1948 - acc: 0.9323 - val_loss: 0.1773 - val_acc: 0.9750\n",
      "Epoch 26/30\n",
      "3590/3590 [==============================] - 3s 943us/step - loss: 0.2098 - acc: 0.9276 - val_loss: 0.2075 - val_acc: 0.9625\n",
      "Epoch 27/30\n",
      "3590/3590 [==============================] - 3s 943us/step - loss: 0.2095 - acc: 0.9298 - val_loss: 0.2653 - val_acc: 0.9475\n",
      "Epoch 28/30\n",
      "3590/3590 [==============================] - 3s 948us/step - loss: 0.1967 - acc: 0.9326 - val_loss: 0.1745 - val_acc: 0.9675\n",
      "Epoch 29/30\n",
      "3590/3590 [==============================] - 3s 940us/step - loss: 0.1635 - acc: 0.9409 - val_loss: 0.1744 - val_acc: 0.9750\n",
      "Epoch 30/30\n",
      "3590/3590 [==============================] - 3s 964us/step - loss: 0.2001 - acc: 0.9304 - val_loss: 0.1857 - val_acc: 0.9700\n"
     ]
    }
   ],
   "source": [
    "history = model.fit(partial_x_train, partial_y_train, epochs=30, batch_size=512, validation_data=(x_val, y_val))\n"
   ]
  },
  {
   "cell_type": "code",
   "execution_count": 60,
   "metadata": {},
   "outputs": [
    {
     "name": "stderr",
     "output_type": "stream",
     "text": [
      "d:\\programmes\\anaconda2\\envs\\tensorflow\\lib\\site-packages\\ipykernel_launcher.py:3: DeprecationWarning: elementwise == comparison failed; this will raise an error in the future.\n",
      "  This is separate from the ipykernel package so we can avoid doing imports until\n"
     ]
    },
    {
     "data": {
      "text/plain": [
       "0.0"
      ]
     },
     "execution_count": 60,
     "metadata": {},
     "output_type": "execute_result"
    }
   ],
   "source": [
    "y_pred = model.predict(X_test)\n",
    "nn_pred = model.predict_proba(X_test)\n",
    "np.mean(np.argmax(y_pred, axis=1)==y_test)"
   ]
  },
  {
   "cell_type": "code",
   "execution_count": 61,
   "metadata": {},
   "outputs": [
    {
     "data": {
      "text/plain": [
       "0.8901098901098901"
      ]
     },
     "execution_count": 61,
     "metadata": {},
     "output_type": "execute_result"
    }
   ],
   "source": [
    "np.mean(np.argmax(y_pred, axis=1)==np.argmax(y_test,axis=1))"
   ]
  },
  {
   "cell_type": "code",
   "execution_count": 63,
   "metadata": {
    "collapsed": true
   },
   "outputs": [],
   "source": [
    "#resultat\n",
    "#neural_net2_best = nn_pred\n",
    "#neural_net1 = nn_pred"
   ]
  },
  {
   "cell_type": "markdown",
   "metadata": {},
   "source": [
    "## Résultat réseaux de neurones 89%"
   ]
  },
  {
   "cell_type": "code",
   "execution_count": 62,
   "metadata": {},
   "outputs": [
    {
     "data": {
      "image/png": "[encoded data removed]",
      "text/plain": [
       "<matplotlib.figure.Figure at 0x1f9ba631be0>"
      ]
     },
     "metadata": {},
     "output_type": "display_data"
    }
   ],
   "source": [
    "import seaborn as sn\n",
    "import pandas as pd\n",
    "import matplotlib.pyplot as plt\n",
    "from sklearn.metrics import confusion_matrix\n",
    "\n",
    "y_pred1 = np.argmax(y_pred, axis = 1)\n",
    "y_test1 = np.argmax(y_test, axis = 1)\n",
    "array = confusion_matrix(y_test1, y_pred1)\n",
    "array = array.astype('float') / array.sum(axis=1)[:, np.newaxis]\n",
    "\n",
    "\n",
    "df_cm = pd.DataFrame(array, index = list2 , columns = list2 )\n",
    "plt.figure(figsize = (10,10))\n",
    "sn.heatmap(df_cm, annot=True)\n",
    "plt.show()"
   ]
  },
  {
   "cell_type": "code",
   "execution_count": 64,
   "metadata": {},
   "outputs": [
    {
     "data": {
      "image/png": "[encoded data removed]",
      "text/plain": [
       "<matplotlib.figure.Figure at 0x1f9836ddb00>"
      ]
     },
     "metadata": {},
     "output_type": "display_data"
    }
   ],
   "source": [
    "import matplotlib.pyplot as plt\n",
    "\n",
    "history_dict = history.history\n",
    "loss_values = history_dict['loss']\n",
    "val_loss_values = history_dict['val_loss']\n",
    "acc = history_dict['acc']\n",
    "\n",
    "epochs = range(1, len(acc) + 1)\n",
    "\n",
    "plt.plot(epochs, loss_values, 'bo', label='Training loss')\n",
    "plt.plot(epochs, val_loss_values, 'b', label='Validation loss')\n",
    "plt.title('Training and validation loss')\n",
    "plt.xlabel('Epochs')\n",
    "plt.ylabel('Loss')\n",
    "plt.legend()\n",
    "plt.show()"
   ]
  },
  {
   "cell_type": "code",
   "execution_count": 65,
   "metadata": {},
   "outputs": [
    {
     "data": {
      "image/png": "[encoded data removed]",
      "text/plain": [
       "<matplotlib.figure.Figure at 0x1f9836dd278>"
      ]
     },
     "metadata": {},
     "output_type": "display_data"
    }
   ],
   "source": [
    "plt.clf()\n",
    "acc_values = history_dict['acc']\n",
    "val_acc= history_dict['val_acc']\n",
    "\n",
    "plt.plot(epochs, acc, 'bo', label='Training acc')\n",
    "plt.plot(epochs, val_acc, 'b', label='Validation acc')\n",
    "plt.title('Training and validation accuracy')\n",
    "plt.xlabel('Epochs')\n",
    "plt.ylabel('Loss')\n",
    "plt.legend()\n",
    "plt.show()"
   ]
  },
  {
   "cell_type": "markdown",
   "metadata": {},
   "source": [
    "### Log loss des modèles "
   ]
  },
  {
   "cell_type": "code",
   "execution_count": 89,
   "metadata": {},
   "outputs": [
    {
     "data": {
      "text/plain": [
       "(91, 10)"
      ]
     },
     "execution_count": 89,
     "metadata": {},
     "output_type": "execute_result"
    }
   ],
   "source": [
    "nn_pred.shape"
   ]
  },
  {
   "cell_type": "code",
   "execution_count": 116,
   "metadata": {},
   "outputs": [
    {
     "name": "stdout",
     "output_type": "stream",
     "text": [
      "Neural Network 2 log_loss  1.314945417193464\n",
      "Xgboost log_loss  0.5532614323918217\n",
      "Neural Network 1 log_loss  1.962886321119866\n"
     ]
    }
   ],
   "source": [
    "from sklearn.metrics import log_loss\n",
    "print('Neural Network 2 log_loss ' , log_loss(y_test, nn_pred, eps=1e-15, normalize=True, sample_weight=None, labels=None))\n",
    "print('Xgboost log_loss ' , log_loss(y_test, xgboost_pred_smote, eps=1e-15, normalize=True, sample_weight=None, labels=None))\n",
    "print('Neural Network 1 log_loss ' , log_loss(y_test, neural_net1, eps=1e-15, normalize=True, sample_weight=None, labels=None))\n"
   ]
  },
  {
   "cell_type": "markdown",
   "metadata": {
    "collapsed": true
   },
   "source": [
    "## Combinaisons linéaire de modèles\n",
    "### moins bon résultat en précision\n",
    "Objectif augmenter la certitude du modèle => réduire la log_loss"
   ]
  },
  {
   "cell_type": "code",
   "execution_count": 109,
   "metadata": {
    "collapsed": true
   },
   "outputs": [],
   "source": [
    "predictions = []\n",
    "predictions.append(nn_pred)\n",
    "predictions.append(neural_net1)\n",
    "#predictions.append(xgboost_pred)\n",
    "predictions.append(xgboost_pred_smote)\n"
   ]
  },
  {
   "cell_type": "code",
   "execution_count": 110,
   "metadata": {
    "collapsed": true
   },
   "outputs": [],
   "source": [
    "from scipy.optimize import minimize\n",
    "def log_loss_func(weights):\n",
    "    ''' scipy minimize will pass the weights as a numpy array '''\n",
    "    final_prediction = 0\n",
    "    for weight, prediction in zip(weights, predictions):\n",
    "            final_prediction += weight*prediction\n",
    "    return log_loss(y_test, final_prediction)"
   ]
  },
  {
   "cell_type": "code",
   "execution_count": 111,
   "metadata": {
    "collapsed": true
   },
   "outputs": [],
   "source": [
    "starting_values = [0.1]*len(predictions)\n",
    "cons = ({'type':'eq','fun':lambda w: 1-sum(w)})\n",
    "bounds = [(0,1)]*len(predictions)\n",
    "res = minimize(log_loss_func, starting_values, method='SLSQP', bounds=bounds, constraints=cons)"
   ]
  },
  {
   "cell_type": "code",
   "execution_count": 112,
   "metadata": {},
   "outputs": [
    {
     "name": "stdout",
     "output_type": "stream",
     "text": [
      "Ensemble Score: 0.5184585008603361\n",
      "Best Weights: [0.23609092 0.02953061 0.73437847]\n"
     ]
    }
   ],
   "source": [
    "print('Ensemble Score: {best_score}'.format(best_score=res['fun']))\n",
    "print('Best Weights: {weights}'.format(weights=res['x']))"
   ]
  },
  {
   "cell_type": "code",
   "execution_count": 113,
   "metadata": {},
   "outputs": [
    {
     "name": "stdout",
     "output_type": "stream",
     "text": [
      "     fun: 0.5184585008603361\n",
      "     jac: array([0.15343836, 0.2962955 , 1.00339114])\n",
      " message: 'Optimization terminated successfully.'\n",
      "    nfev: 31\n",
      "     nit: 4\n",
      "    njev: 4\n",
      "  status: 0\n",
      " success: True\n",
      "       x: array([0.23609092, 0.02953061, 0.73437847])\n"
     ]
    }
   ],
   "source": [
    "print(res)"
   ]
  },
  {
   "cell_type": "code",
   "execution_count": 114,
   "metadata": {
    "collapsed": true
   },
   "outputs": [],
   "source": [
    "comb_lin_pred = 0.2361 * nn_pred + 0.02953*neural_net1 + 0.73437847* xgboost_pred_smote"
   ]
  },
  {
   "cell_type": "code",
   "execution_count": 99,
   "metadata": {},
   "outputs": [
    {
     "data": {
      "text/plain": [
       "0.8461538461538461"
      ]
     },
     "execution_count": 99,
     "metadata": {},
     "output_type": "execute_result"
    }
   ],
   "source": [
    "(np.argmax(comb_lin_pred,axis=1)==y_test_r).mean()"
   ]
  },
  {
   "cell_type": "code",
   "execution_count": 101,
   "metadata": {},
   "outputs": [
    {
     "data": {
      "image/png": "[encoded data removed]",
      "text/plain": [
       "<matplotlib.figure.Figure at 0x1f987b0f1d0>"
      ]
     },
     "metadata": {},
     "output_type": "display_data"
    }
   ],
   "source": [
    "y_pred1 = np.argmax(comb_lin_pred,axis=1)\n",
    "y_test1 = y_test_r #np.argmax(y_test,axis=1)\n",
    "array = confusion_matrix(y_test1, y_pred1)\n",
    "array = array.astype('float') / array.sum(axis=1)[:, np.newaxis]\n",
    "\n",
    "\n",
    "df_cm = pd.DataFrame(array, index = list2 , columns = list2)\n",
    "plt.figure(figsize = (10,10))\n",
    "sn.heatmap(df_cm, annot=True)\n",
    "plt.show()"
   ]
  },
  {
   "cell_type": "code",
   "execution_count": 155,
   "metadata": {},
   "outputs": [
    {
     "data": {
      "text/plain": [
       "array([0, 1, 2, 2, 0, 6, 2, 2, 0, 2, 2, 2, 2, 2, 0, 2, 2, 2, 0, 2, 2, 2,\n",
       "       2, 2, 2, 0, 2, 6, 2, 2, 0, 2, 2, 0, 0, 0, 2, 2, 1, 2, 2, 6, 2, 7,\n",
       "       2, 2, 2, 2, 2, 2, 0, 2, 1, 2, 8, 2, 2, 7, 7, 0, 6, 0, 0, 0, 2, 2,\n",
       "       2, 2, 7, 0, 6, 6, 2, 2, 9, 2, 2, 0, 2, 2, 2, 0, 2, 2, 7, 0, 6, 0,\n",
       "       2, 2, 2, 2, 7, 0, 2, 2, 0, 0, 0, 0, 2, 0, 6, 0, 2, 0, 2, 7, 2, 2,\n",
       "       1, 2, 2, 2, 2, 6, 0, 1, 0, 2, 2, 2, 2, 2, 2, 0, 2, 0, 0, 1, 0, 6,\n",
       "       0, 2, 1, 2, 0, 3, 2, 2, 9, 2, 9, 0, 2, 0, 2, 2, 5, 2, 2, 2, 0, 6,\n",
       "       2, 0, 2, 2, 7, 0, 2, 2, 2, 2, 6, 2, 2, 3, 0, 7, 6, 2, 2, 2, 9, 0,\n",
       "       2, 2, 2, 0, 0], dtype=int64)"
      ]
     },
     "execution_count": 155,
     "metadata": {},
     "output_type": "execute_result"
    }
   ],
   "source": [
    "np.argmax(comb_lin_pred,axis=1)"
   ]
  },
  {
   "cell_type": "code",
   "execution_count": null,
   "metadata": {
    "collapsed": true
   },
   "outputs": [],
   "source": []
  }
 ],
 "metadata": {
  "kernelspec": {
   "display_name": "Python 3",
   "language": "python",
   "name": "python3"
  },
  "language_info": {
   "codemirror_mode": {
    "name": "ipython",
    "version": 3
   },
   "file_extension": ".py",
   "mimetype": "text/x-python",
   "name": "python",
   "nbconvert_exporter": "python",
   "pygments_lexer": "ipython3",
   "version": "3.6.3"
  }
 },
 "nbformat": 4,
 "nbformat_minor": 2
}
